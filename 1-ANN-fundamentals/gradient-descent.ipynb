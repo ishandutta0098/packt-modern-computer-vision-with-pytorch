{
 "cells": [
  {
   "cell_type": "markdown",
   "metadata": {},
   "source": [
    "# Gradient Descent\n",
    "\n",
    "**Steps:**\n",
    "\n",
    "1. Define feedforward network and calculate mean squared error loss\n",
    "2. Increase each weight and bias value by a very small amount and calculate overall squared error loss one at a time for each of the updates   \n",
    "\n",
    "Here `learning_rate = 0.0001`"
   ]
  },
  {
   "cell_type": "code",
   "execution_count": 3,
   "metadata": {},
   "outputs": [],
   "source": [
    "import numpy as np\n",
    "from copy import deepcopy"
   ]
  },
  {
   "cell_type": "code",
   "execution_count": 2,
   "metadata": {},
   "outputs": [],
   "source": [
    "# FeedForward Network\n",
    "\n",
    "def feed_forward(inputs, outputs, weights):\n",
    "\n",
    "    pre_hidden = np.dot(inputs, weights[0]) + weights[1]\n",
    "    hidden = 1 / (1 + np.exp(-pre_hidden))\n",
    "    prediction = np.dot(hidden, weights[2]) + weights[3]\n",
    "\n",
    "    mean_squared_error = np.mean(np.square(prediction - outputs))\n",
    "\n",
    "    return mean_squared_error"
   ]
  },
  {
   "cell_type": "code",
   "execution_count": null,
   "metadata": {},
   "outputs": [],
   "source": [
    "# Backpropagation\n",
    "\n",
    "def update_weights(inputs, outputs, weights, lr):\n",
    "\n",
    "    # Copy the weights so that computations don't change original weights\n",
    "    original_weights = deepcopy(weights)\n",
    "    temp_weights = deepcopy(weights)\n",
    "    updated_weights = deepcopy(weights)\n",
    "\n",
    "    # Calculate loss\n",
    "    original_loss = feed_forward(inputs, outputs, original_weights)\n",
    "\n",
    "    # Loop through all layers of the network\n",
    "    for i, layer in range(original_weights):\n",
    "\n",
    "        # Loop through individual parameters\n",
    "        for index, weight in np.ndenumerate(layer): # Every layer has different different weights shape \n",
    "                                                    # so np.ndenumerate is used\n",
    "            temp_weights = deepcopy(weights)                            # Weights of corresponding layer\n",
    "\n",
    "            temp_weights[i][index] = temp_weights[i][index] + 0.0001    # Update weights\n",
    "\n",
    "            _loss_plus = feed_forward(inputs, outputs, temp_weights)    # Calculate new loss\n",
    "\n",
    "            grad = (_loss_plus - original_loss) / 0.0001                # Calculate gradient\n",
    "\n",
    "            update_weights[i][index] = update_weights[i][index] - (grad * lr)\n",
    "\n",
    "        \n",
    "    return update_weights, original_loss\n"
   ]
  }
 ],
 "metadata": {
  "interpreter": {
   "hash": "323c9bce7ac1a9ea4994ab47268d44dc7215c46ff68d641ed6324f9037e8a8c4"
  },
  "kernelspec": {
   "display_name": "Python 3.7.10 64-bit ('myenv': conda)",
   "language": "python",
   "name": "python3"
  },
  "language_info": {
   "codemirror_mode": {
    "name": "ipython",
    "version": 3
   },
   "file_extension": ".py",
   "mimetype": "text/x-python",
   "name": "python",
   "nbconvert_exporter": "python",
   "pygments_lexer": "ipython3",
   "version": "3.7.10"
  },
  "orig_nbformat": 4
 },
 "nbformat": 4,
 "nbformat_minor": 2
}
