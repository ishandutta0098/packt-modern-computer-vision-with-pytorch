{
 "cells": [
  {
   "cell_type": "markdown",
   "metadata": {},
   "source": [
    "# Intitializing a Tensor"
   ]
  },
  {
   "cell_type": "code",
   "execution_count": 1,
   "metadata": {},
   "outputs": [],
   "source": [
    "import torch"
   ]
  },
  {
   "cell_type": "code",
   "execution_count": 4,
   "metadata": {},
   "outputs": [
    {
     "name": "stdout",
     "output_type": "stream",
     "text": [
      "torch.Size([1, 2])\n",
      "torch.Size([2, 1])\n",
      "torch.int64\n",
      "torch.int64\n",
      "tensor([0., 1., 2.])\n"
     ]
    }
   ],
   "source": [
    "# Intialize a Tensor from list\n",
    "\n",
    "x = torch.tensor([[1,2]])\n",
    "y = torch.tensor([[1], [2]])\n",
    "\n",
    "print(x.shape)\n",
    "print(y.shape)\n",
    "\n",
    "print(x.dtype)\n",
    "print(y.dtype)\n",
    "\n",
    "# Data type of tensor is same when output\n",
    "x = torch.tensor([False, 1.0, 2])\n",
    "print(x)    # All are float "
   ]
  },
  {
   "cell_type": "code",
   "execution_count": 5,
   "metadata": {},
   "outputs": [
    {
     "data": {
      "text/plain": [
       "tensor([[0., 0., 0., 0.],\n",
       "        [0., 0., 0., 0.],\n",
       "        [0., 0., 0., 0.]])"
      ]
     },
     "execution_count": 5,
     "metadata": {},
     "output_type": "execute_result"
    }
   ],
   "source": [
    "# Tensor with 3 rows and 4 columns filled with zeros\n",
    "torch.zeros((3,4))"
   ]
  },
  {
   "cell_type": "code",
   "execution_count": 6,
   "metadata": {},
   "outputs": [
    {
     "data": {
      "text/plain": [
       "tensor([[1., 1., 1., 1.],\n",
       "        [1., 1., 1., 1.],\n",
       "        [1., 1., 1., 1.]])"
      ]
     },
     "execution_count": 6,
     "metadata": {},
     "output_type": "execute_result"
    }
   ],
   "source": [
    "# Tensor with 3 rows and 4 columns filled with ones\n",
    "torch.ones(3,4)"
   ]
  },
  {
   "cell_type": "code",
   "execution_count": 7,
   "metadata": {},
   "outputs": [
    {
     "data": {
      "text/plain": [
       "tensor([[1, 7, 9, 8],\n",
       "        [5, 3, 0, 8],\n",
       "        [0, 2, 0, 6]])"
      ]
     },
     "execution_count": 7,
     "metadata": {},
     "output_type": "execute_result"
    }
   ],
   "source": [
    "# Tensor with 3 rows and 4 columns filled with values in range [0, 10)\n",
    "torch.randint(low = 0, high = 10, size = (3,4))"
   ]
  },
  {
   "cell_type": "code",
   "execution_count": 8,
   "metadata": {},
   "outputs": [
    {
     "data": {
      "text/plain": [
       "tensor([[0.8651, 0.3626, 0.5315, 0.8180],\n",
       "        [0.3588, 0.4022, 0.0651, 0.0481],\n",
       "        [0.6490, 0.6987, 0.1385, 0.6138]])"
      ]
     },
     "execution_count": 8,
     "metadata": {},
     "output_type": "execute_result"
    }
   ],
   "source": [
    "# Tensor with 3 rows and 4 columns filled with random numbers between 0 and 1\n",
    "torch.rand((3,4))"
   ]
  },
  {
   "cell_type": "code",
   "execution_count": 9,
   "metadata": {},
   "outputs": [
    {
     "data": {
      "text/plain": [
       "tensor([[-0.5943,  1.0079, -0.3835,  0.9499],\n",
       "        [-1.1627,  0.6040,  0.9823,  0.7874],\n",
       "        [-1.3449, -0.9234, -0.1903, -0.8299]])"
      ]
     },
     "execution_count": 9,
     "metadata": {},
     "output_type": "execute_result"
    }
   ],
   "source": [
    "# Tensor with 3 rows and 4 columns filled with numbers with normal distribution\n",
    "torch.randn((3,4))"
   ]
  },
  {
   "cell_type": "code",
   "execution_count": 12,
   "metadata": {},
   "outputs": [
    {
     "name": "stdout",
     "output_type": "stream",
     "text": [
      "tensor([[ 1,  2,  3],\n",
      "        [10, 20, 30]], dtype=torch.int32)\n"
     ]
    }
   ],
   "source": [
    "# Convert numpy array to tensor\n",
    "import numpy as np\n",
    "\n",
    "arr = np.array([[1,2,3], [10,20,30]])\n",
    "tensor = torch.tensor(arr)\n",
    "\n",
    "print(tensor)"
   ]
  }
 ],
 "metadata": {
  "interpreter": {
   "hash": "323c9bce7ac1a9ea4994ab47268d44dc7215c46ff68d641ed6324f9037e8a8c4"
  },
  "kernelspec": {
   "display_name": "Python 3.7.10 64-bit ('myenv': conda)",
   "language": "python",
   "name": "python3"
  },
  "language_info": {
   "codemirror_mode": {
    "name": "ipython",
    "version": 3
   },
   "file_extension": ".py",
   "mimetype": "text/x-python",
   "name": "python",
   "nbconvert_exporter": "python",
   "pygments_lexer": "ipython3",
   "version": "3.7.10"
  },
  "orig_nbformat": 4
 },
 "nbformat": 4,
 "nbformat_minor": 2
}
