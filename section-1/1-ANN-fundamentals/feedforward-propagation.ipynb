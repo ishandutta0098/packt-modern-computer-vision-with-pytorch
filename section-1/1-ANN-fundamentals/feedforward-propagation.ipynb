{
 "cells": [
  {
   "cell_type": "code",
   "execution_count": 2,
   "metadata": {},
   "outputs": [],
   "source": [
    "import numpy as np\n",
    "\n",
    "def feed_forward(inputs, outputs, weights):\n",
    "    \"\"\"\n",
    "    Function to calculate the loss of current network state\n",
    "\n",
    "    params: inputs - input data\n",
    "            outputs - output data\n",
    "            weights - current neural network weights\n",
    "\n",
    "    returns: mean_squared_error - MSE loss of the current network state\n",
    "    \n",
    "    \"\"\"\n",
    "    pre_hidden = np.dot(inputs, weights[0]) + weights[1]\n",
    "    hidden = 1/(1 + np.exp(-pre_hidden))\n",
    "    prediction = np.dot(hidden, weights[2]) + weights[3]\n",
    "\n",
    "    mean_squared_error = np.mean(np.square(prediction - outputs)) \n",
    "\n",
    "    return mean_squared_error "
   ]
  }
 ],
 "metadata": {
  "interpreter": {
   "hash": "323c9bce7ac1a9ea4994ab47268d44dc7215c46ff68d641ed6324f9037e8a8c4"
  },
  "kernelspec": {
   "display_name": "Python 3.7.10 64-bit ('myenv': conda)",
   "language": "python",
   "name": "python3"
  },
  "language_info": {
   "codemirror_mode": {
    "name": "ipython",
    "version": 3
   },
   "file_extension": ".py",
   "mimetype": "text/x-python",
   "name": "python",
   "nbconvert_exporter": "python",
   "pygments_lexer": "ipython3",
   "version": "3.7.10"
  },
  "orig_nbformat": 4
 },
 "nbformat": 4,
 "nbformat_minor": 2
}
