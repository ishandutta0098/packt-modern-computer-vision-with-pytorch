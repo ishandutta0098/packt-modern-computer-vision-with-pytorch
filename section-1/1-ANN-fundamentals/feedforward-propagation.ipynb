{
 "cells": [
  {
   "cell_type": "code",
   "execution_count": null,
   "metadata": {},
   "outputs": [],
   "source": [
    "import numpy as np\n",
    "\n",
    "def feed_forward(inputs, outputs, weights):\n",
    "    pre_hidden = np.dot(inputs, weights[0]) + weights[1]\n",
    "    hidden = 1/(1 + np.exp(-pre_hidden))\n",
    "    prediction = np.dot(hidden, weights[2]) + weights[3]\n",
    "\n",
    "    mean_squared_error = np.mean(np.square(prediction - outputs)) \n",
    "\n",
    "    return mean_squared_error "
   ]
  },
  {
   "cell_type": "code",
   "execution_count": null,
   "metadata": {},
   "outputs": [],
   "source": []
  }
 ],
 "metadata": {
  "language_info": {
   "name": "python"
  },
  "orig_nbformat": 4
 },
 "nbformat": 4,
 "nbformat_minor": 2
}
