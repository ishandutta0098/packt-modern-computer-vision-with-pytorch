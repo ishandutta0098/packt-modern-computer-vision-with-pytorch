{
 "cells": [
  {
   "cell_type": "markdown",
   "metadata": {},
   "source": [
    "# Zero Shot Learning"
   ]
  },
  {
   "cell_type": "code",
   "execution_count": 1,
   "metadata": {},
   "outputs": [
    {
     "name": "stdout",
     "output_type": "stream",
     "text": [
      "D:\\book-implementations\\packt-modern-computer-vision-with-pytorch\\14-training-with-minimal-data-points\n"
     ]
    }
   ],
   "source": [
    "!git clone https://github.com/sizhky/zero-shot-learning/\n",
    "!pip install -Uq torch_snippets\n",
    "%cd D:/book-implementations/packt-modern-computer-vision-with-pytorch/14-training-with-minimal-data-points\n",
    "import gzip\n",
    "import _pickle as cPickle\n",
    "from torch_snippets import *\n",
    "from sklearn.preprocessing import LabelEncoder, normalize\n",
    "device = 'cuda' if torch.cuda.is_available() else 'cpu'"
   ]
  },
  {
   "cell_type": "code",
   "execution_count": null,
   "metadata": {},
   "outputs": [],
   "source": []
  }
 ],
 "metadata": {
  "interpreter": {
   "hash": "323c9bce7ac1a9ea4994ab47268d44dc7215c46ff68d641ed6324f9037e8a8c4"
  },
  "kernelspec": {
   "display_name": "Python 3.7.10 64-bit ('myenv': conda)",
   "language": "python",
   "name": "python3"
  },
  "language_info": {
   "codemirror_mode": {
    "name": "ipython",
    "version": 3
   },
   "file_extension": ".py",
   "mimetype": "text/x-python",
   "name": "python",
   "nbconvert_exporter": "python",
   "pygments_lexer": "ipython3",
   "version": "3.7.10"
  },
  "orig_nbformat": 4
 },
 "nbformat": 4,
 "nbformat_minor": 2
}
