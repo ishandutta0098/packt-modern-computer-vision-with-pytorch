{
 "cells": [
  {
   "cell_type": "markdown",
   "metadata": {},
   "source": [
    "# Scaling the Dataset"
   ]
  },
  {
   "cell_type": "code",
   "execution_count": 8,
   "metadata": {},
   "outputs": [],
   "source": [
    "# Imports\n",
    "import numpy as np\n",
    "\n",
    "import torch \n",
    "import torch.nn as nn \n",
    "from torch.utils.data import Dataset, DataLoader\n",
    "from torchvision import datasets\n",
    "\n",
    "# Device\n",
    "device = 'cuda' if torch.cuda.is_available() else 'cpu'"
   ]
  },
  {
   "cell_type": "code",
   "execution_count": 2,
   "metadata": {},
   "outputs": [],
   "source": [
    "# Load data\n",
    "data_directory = 'D:/book-implementations/packt-modern-computer-vision-with-pytorch/3-building-deep-nn-with-pytorch/images/FMNIST'\n",
    "fmnist = datasets.FashionMNIST(\n",
    "    data_directory,\n",
    "    download=False,\n",
    "    train=True\n",
    "    )\n",
    "\n",
    "tr_images = fmnist.data\n",
    "tr_targets = fmnist.targets "
   ]
  },
  {
   "cell_type": "code",
   "execution_count": 4,
   "metadata": {},
   "outputs": [],
   "source": [
    "# Dataset\n",
    "\n",
    "class FMNISTDataset(Dataset):\n",
    "    def __init__(self, x, y):\n",
    "        x = x.float()/255           # Scale the data\n",
    "        x = x.view(-1, 28*28)\n",
    "        self.x = x\n",
    "        self.y = y \n",
    "        \n",
    "    def __len__(self):\n",
    "        return len(self.x)\n",
    "\n",
    "    def __getitem__(self, index):\n",
    "        x = self.x[index]\n",
    "        y = self.y[index]\n",
    "\n",
    "        return x.to(device), y.to(device)"
   ]
  },
  {
   "cell_type": "code",
   "execution_count": 5,
   "metadata": {},
   "outputs": [],
   "source": [
    "def get_data():\n",
    "    ds = FMNISTDataset(tr_images, tr_targets)\n",
    "    dl = DataLoader(\n",
    "        ds,\n",
    "        batch_size=32,\n",
    "        shuffle=True\n",
    "    )\n",
    "    return dl"
   ]
  },
  {
   "cell_type": "code",
   "execution_count": 6,
   "metadata": {},
   "outputs": [],
   "source": [
    "# Model\n",
    "\n",
    "def get_model():\n",
    "    model = nn.Sequential(\n",
    "        nn.Linear(28*28, 1000),\n",
    "        nn.ReLU(),\n",
    "        nn.Linear(1000, 10)\n",
    "    ).to(device)\n",
    "\n",
    "    loss_fn = nn.CrossEntropyLoss()\n",
    "\n",
    "    optimizer = torch.optim.SGD(\n",
    "        model.parameters(),\n",
    "        lr = 1e-2        \n",
    "        )\n",
    "\n",
    "    return model, loss_fn, optimizer"
   ]
  },
  {
   "cell_type": "code",
   "execution_count": 12,
   "metadata": {},
   "outputs": [],
   "source": [
    "# Training Function\n",
    "def train_batch(x, y, model, loss_fn, optimizer):\n",
    "    model.train()\n",
    "    predictions = model(x)\n",
    "    batch_loss = loss_fn(predictions, y)\n",
    "    batch_loss.backward()\n",
    "    optimizer.step()\n",
    "    optimizer.zero_grad()\n",
    "    return batch_loss.item()\n",
    "\n",
    "# Accuracy\n",
    "@torch.no_grad()\n",
    "def accuracy(x, y, model):\n",
    "    model.eval()\n",
    "    predictions = model(x)\n",
    "    max_values, argmax = predictions.max(-1)\n",
    "    is_correct = argmax == y \n",
    "    return is_correct.cpu().numpy().tolist()"
   ]
  },
  {
   "cell_type": "code",
   "execution_count": 16,
   "metadata": {},
   "outputs": [
    {
     "name": "stdout",
     "output_type": "stream",
     "text": [
      "Epoch:  0\n",
      "Loss: 0.838165403954188      Accuracy: 0.8063833333333333\n",
      "Epoch:  1\n",
      "Loss: 0.5341512230555217      Accuracy: 0.8294333333333334\n",
      "Epoch:  2\n",
      "Loss: 0.4808228340069453      Accuracy: 0.8403333333333334\n",
      "Epoch:  3\n",
      "Loss: 0.4532307109276454      Accuracy: 0.84905\n",
      "Epoch:  4\n"
     ]
    }
   ],
   "source": [
    "# Model Training\n",
    "train_dl = get_data()\n",
    "model, loss_fn, optimizer = get_model()\n",
    "\n",
    "losses, accuracies = [], []\n",
    "\n",
    "for epoch in range(5):\n",
    "    print(\"Epoch: \", epoch)\n",
    "    epoch_losses, epoch_accuracies = [], []\n",
    "\n",
    "    for index, data in enumerate(iter(train_dl)):\n",
    "        x, y = data \n",
    "        batch_loss = train_batch(x, y, model, loss_fn, optimizer)\n",
    "\n",
    "        epoch_losses.append(batch_loss)\n",
    "\n",
    "    epoch_loss = np.array(epoch_losses).mean()\n",
    "\n",
    "    for index, data in enumerate(iter(train_dl)):\n",
    "        x, y = data \n",
    "        is_correct = accuracy(x, y, model)\n",
    "        epoch_accuracies.extend(is_correct)\n",
    "\n",
    "    epoch_accuracy = np.mean(epoch_accuracies)\n",
    "\n",
    "    print(f\"Loss: {epoch_loss}      Accuracy: {epoch_accuracy}\")\n",
    "\n",
    "    losses.append(epoch_loss)\n",
    "    accuracies.append(epoch_accuracy)\n"
   ]
  },
  {
   "cell_type": "code",
   "execution_count": null,
   "metadata": {},
   "outputs": [],
   "source": [
    "plt.plot(losses)\n",
    "\n",
    "plt.plot(accuracies)"
   ]
  }
 ],
 "metadata": {
  "interpreter": {
   "hash": "323c9bce7ac1a9ea4994ab47268d44dc7215c46ff68d641ed6324f9037e8a8c4"
  },
  "kernelspec": {
   "display_name": "Python 3.7.10 64-bit ('myenv': conda)",
   "language": "python",
   "name": "python3"
  },
  "language_info": {
   "codemirror_mode": {
    "name": "ipython",
    "version": 3
   },
   "file_extension": ".py",
   "mimetype": "text/x-python",
   "name": "python",
   "nbconvert_exporter": "python",
   "pygments_lexer": "ipython3",
   "version": "3.7.10"
  },
  "orig_nbformat": 4
 },
 "nbformat": 4,
 "nbformat_minor": 2
}
