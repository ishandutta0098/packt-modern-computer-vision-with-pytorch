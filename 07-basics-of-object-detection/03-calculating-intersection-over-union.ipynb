{
 "cells": [
  {
   "cell_type": "code",
   "execution_count": 3,
   "metadata": {},
   "outputs": [],
   "source": [
    "def get_iou(boxA, boxB, epsilon=1e-5):\n",
    "\n",
    "    # Coordinates of the intersection rectangle\n",
    "    x1 = max(boxA[0], boxB[0])\n",
    "    y1 = max(boxA[1], boxB[1])\n",
    "    x2 = min(boxA[2], boxB[2])\n",
    "    y2 = min(boxA[3], boxB[3])\n",
    "\n",
    "    print(x1, y1, x2, y2)\n",
    "\n",
    "    # Width and height of the intersection rectangle\n",
    "    width = x2 - x1\n",
    "    height = y2 - y1\n",
    "\n",
    "    # Area of intersection rectangle\n",
    "    if width <= 0 or height <= 0:\n",
    "        return 0.0\n",
    "    area_overlap = width * height\n",
    "\n",
    "    # Combined area (union)\n",
    "\n",
    "    area_a = (boxA[2] - boxA[0]) * (boxA[3] - boxA[1])\n",
    "    area_b = (boxB[2] - boxB[0]) * (boxB[3] - boxB[1])\n",
    "    combined_area = area_a + area_b - area_overlap\n",
    "\n",
    "    # Calculate iou \n",
    "    iou = area_overlap / combined_area\n",
    "\n",
    "    return iou\n"
   ]
  },
  {
   "cell_type": "code",
   "execution_count": 4,
   "metadata": {},
   "outputs": [
    {
     "name": "stdout",
     "output_type": "stream",
     "text": [
      "5 5 10 10\n"
     ]
    },
    {
     "data": {
      "text/plain": [
       "0.14285714285714285"
      ]
     },
     "execution_count": 4,
     "metadata": {},
     "output_type": "execute_result"
    }
   ],
   "source": [
    "boxA = [0, 0, 10, 10]\n",
    "boxB = [5, 5, 15, 15]\n",
    "\n",
    "get_iou(boxA, boxB)"
   ]
  }
 ],
 "metadata": {
  "interpreter": {
   "hash": "d6b1319f5da4752cbde313a62ba48f55e70f57a0c39903a28849758e89e9f18b"
  },
  "kernelspec": {
   "display_name": "Python 3.8.12 ('pytorch-env')",
   "language": "python",
   "name": "python3"
  },
  "language_info": {
   "codemirror_mode": {
    "name": "ipython",
    "version": 3
   },
   "file_extension": ".py",
   "mimetype": "text/x-python",
   "name": "python",
   "nbconvert_exporter": "python",
   "pygments_lexer": "ipython3",
   "version": "3.8.12"
  },
  "orig_nbformat": 4
 },
 "nbformat": 4,
 "nbformat_minor": 2
}
