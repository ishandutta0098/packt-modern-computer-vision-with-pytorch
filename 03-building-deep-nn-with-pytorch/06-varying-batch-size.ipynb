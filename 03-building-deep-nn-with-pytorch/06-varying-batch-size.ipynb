{
 "cells": [
  {
   "cell_type": "markdown",
   "metadata": {},
   "source": [
    "# Varying Batch Size"
   ]
  },
  {
   "cell_type": "markdown",
   "metadata": {},
   "source": [
    "### Batch Size 32"
   ]
  },
  {
   "cell_type": "code",
   "execution_count": 16,
   "metadata": {},
   "outputs": [],
   "source": [
    "# Imports\n",
    "import numpy as np\n",
    "\n",
    "import torch \n",
    "import torch.nn as nn \n",
    "from torch.utils.data import Dataset, DataLoader\n",
    "from torchvision import datasets\n",
    "\n",
    "import matplotlib.ticker as mticker\n",
    "import matplotlib.pyplot as plt \n",
    "%matplotlib inline\n",
    "\n",
    "# Device\n",
    "device = 'cuda' if torch.cuda.is_available() else 'cpu'"
   ]
  },
  {
   "cell_type": "code",
   "execution_count": 3,
   "metadata": {},
   "outputs": [],
   "source": [
    "# Load data\n",
    "data_directory = 'D:/book-implementations/packt-modern-computer-vision-with-pytorch/03-building-deep-nn-with-pytorch/images/FMNIST'\n",
    "fmnist = datasets.FashionMNIST(\n",
    "    data_directory,\n",
    "    download=False,\n",
    "    train=True\n",
    "    )\n",
    "\n",
    "tr_images = fmnist.data\n",
    "tr_targets = fmnist.targets \n",
    "\n",
    "val_fmnist = datasets.FashionMNIST(\n",
    "    data_directory,\n",
    "    download=False,\n",
    "    train=False\n",
    "    )\n",
    "\n",
    "val_images = val_fmnist.data \n",
    "val_targets = val_fmnist.targets "
   ]
  },
  {
   "cell_type": "code",
   "execution_count": 12,
   "metadata": {},
   "outputs": [],
   "source": [
    "# Dataset\n",
    "class FMNISTDataset(Dataset):\n",
    "    def __init__(self, x, y):\n",
    "        x = x.float()/255\n",
    "        x = x.view(-1, 28*28)\n",
    "        self.x = x \n",
    "        self.y = y \n",
    "\n",
    "    def __len__(self):\n",
    "        return len(self.x)\n",
    "\n",
    "    def __getitem__(self, index):\n",
    "        x = self.x[index]\n",
    "        y = self.y[index]\n",
    "\n",
    "        return x.to(device), y.to(device)\n",
    "\n",
    "# Model\n",
    "def get_model():\n",
    "    model = nn.Sequential(\n",
    "        nn.Linear(28*28, 1000),\n",
    "        nn.ReLU(),\n",
    "        nn.Linear(1000, 10)\n",
    "    ).to(device)\n",
    "\n",
    "    loss_fn = nn.CrossEntropyLoss()\n",
    "\n",
    "    optimizer = torch.optim.SGD(\n",
    "        model.parameters(),\n",
    "        lr = 1e-2\n",
    "    )\n",
    "\n",
    "    return model, loss_fn, optimizer"
   ]
  },
  {
   "cell_type": "code",
   "execution_count": 14,
   "metadata": {},
   "outputs": [],
   "source": [
    "# Training Function\n",
    "def train_batch(x, y, model, loss_fn, optimizer):\n",
    "    model.train()\n",
    "\n",
    "    predictions = model(x)\n",
    "    batch_loss = loss_fn(predictions, y)\n",
    "    batch_loss.backward()\n",
    "    optimizer.step()\n",
    "    optimizer.zero_grad()\n",
    "    \n",
    "    return batch_loss.item()\n",
    "\n",
    "# Validation\n",
    "def accuracy(x, y, model):\n",
    "    model.eval()\n",
    "\n",
    "    with torch.no_grad():\n",
    "        predictions = model(x)\n",
    "\n",
    "    max_values, argmax = predictions.max(-1)\n",
    "\n",
    "    is_correct = argmax == y \n",
    "\n",
    "    return is_correct.cpu().numpy().tolist()"
   ]
  },
  {
   "cell_type": "code",
   "execution_count": 8,
   "metadata": {},
   "outputs": [],
   "source": [
    "# Get Data\n",
    "def get_data():\n",
    "    train_ds = FMNISTDataset(tr_images, tr_targets)\n",
    "    train_dl = DataLoader(\n",
    "        train_ds,\n",
    "        batch_size = 32,\n",
    "        shuffle=True\n",
    "\n",
    "    )\n",
    "\n",
    "    val_ds = FMNISTDataset(val_images, val_targets)\n",
    "    val_dl = DataLoader(\n",
    "        val_ds,\n",
    "        batch_size = len(val_images),\n",
    "        shuffle=False\n",
    "    )\n",
    "\n",
    "    return train_dl, val_dl "
   ]
  },
  {
   "cell_type": "code",
   "execution_count": 9,
   "metadata": {},
   "outputs": [],
   "source": [
    "# Validation loss\n",
    "@torch.no_grad()\n",
    "\n",
    "def val_loss(x, y, model):\n",
    "    model.eval()\n",
    "    predictions = model(x)\n",
    "    val_loss = loss_fn(predictions, y)\n",
    "    return val_loss.item()"
   ]
  },
  {
   "cell_type": "code",
   "execution_count": 15,
   "metadata": {},
   "outputs": [
    {
     "name": "stdout",
     "output_type": "stream",
     "text": [
      "\n",
      "Epoch: 0\n",
      "Loss: 0.8482412863095602    Accuracy: 0.8074333333333333\n",
      "\n",
      "Epoch: 1\n",
      "Loss: 0.5388023504654567    Accuracy: 0.8283666666666667\n",
      "\n",
      "Epoch: 2\n",
      "Loss: 0.48426597578525543    Accuracy: 0.843\n",
      "\n",
      "Epoch: 3\n",
      "Loss: 0.45618132123152416    Accuracy: 0.8446666666666667\n",
      "\n",
      "Epoch: 4\n",
      "Loss: 0.4364000505288442    Accuracy: 0.8476666666666667\n"
     ]
    }
   ],
   "source": [
    "# Model Training\n",
    "\n",
    "train_dl, val_dl = get_data()\n",
    "model, loss_fn, optimizer = get_model()\n",
    "\n",
    "train_losses, train_accuracies = [], []\n",
    "val_losses, val_accuracies = [], []\n",
    "\n",
    "for epoch in range(5):\n",
    "    print(f\"\\nEpoch: {epoch}\")\n",
    "    train_epoch_losses, train_epoch_accuracies = [], []\n",
    "\n",
    "    for index, batch in enumerate(iter(train_dl)):\n",
    "        x, y = batch \n",
    "        batch_loss = train_batch(x, y, model, loss_fn, optimizer)\n",
    "        train_epoch_losses.append(batch_loss)\n",
    "\n",
    "    train_epoch_loss = np.array(train_epoch_losses).mean()\n",
    "\n",
    "    for index, batch in enumerate(iter(train_dl)):\n",
    "        x, y = batch \n",
    "        train_is_correct = accuracy(x, y, model)\n",
    "        train_epoch_accuracies.append(train_is_correct)\n",
    "\n",
    "    train_epoch_accuracy = np.mean(train_epoch_accuracies)\n",
    "\n",
    "    print(f\"Loss: {train_epoch_loss}    Accuracy: {train_epoch_accuracy}\")\n",
    "\n",
    "    for index, batch in enumerate(iter(val_dl)):\n",
    "        x, y = batch \n",
    "        val_is_correct = accuracy(x, y, model)\n",
    "        val_batch_loss = val_loss(x, y, model)\n",
    "\n",
    "    validation_epoch_accuracy = np.mean(val_is_correct)\n",
    "\n",
    "    train_losses.append(train_epoch_loss)\n",
    "    train_accuracies.append(train_epoch_accuracy)\n",
    "    val_losses.append(val_batch_loss)\n",
    "    val_accuracies.append(validation_epoch_accuracy)\n"
   ]
  },
  {
   "cell_type": "code",
   "execution_count": 17,
   "metadata": {},
   "outputs": [
    {
     "data": {
      "image/png": "[encoded data removed]",
      "text/plain": [
       "<Figure size 432x288 with 1 Axes>"
      ]
     },
     "metadata": {
      "needs_background": "light"
     },
     "output_type": "display_data"
    },
    {
     "name": "stderr",
     "output_type": "stream",
     "text": [
      "C:\\Users\\hp\\anaconda3\\envs\\myenv\\lib\\site-packages\\ipykernel_launcher.py:50: UserWarning: FixedFormatter should only be used together with FixedLocator\n"
     ]
    },
    {
     "data": {
      "image/png": "[encoded data removed]",
      "text/plain": [
       "<Figure size 432x288 with 1 Axes>"
      ]
     },
     "metadata": {
      "needs_background": "light"
     },
     "output_type": "display_data"
    }
   ],
   "source": [
    "# Plots\n",
    "\n",
    "epochs = np.arange(5) + 1\n",
    "\n",
    "# ==================================\n",
    "# Training and Validation Loss Plot\n",
    "# ==================================\n",
    "plt.subplot(211)\n",
    "plt.plot(\n",
    "    epochs, \n",
    "    train_losses,\n",
    "    'bo',\n",
    "    label='Training Loss'\n",
    "    )\n",
    "plt.plot(\n",
    "    epochs,\n",
    "    val_losses,\n",
    "    'r',\n",
    "    label='Validation Loss'\n",
    ")\n",
    "plt.gca().xaxis.set_major_locator(mticker.MultipleLocator(1))\n",
    "plt.title(\"Training and Validation Loss when batch size is 32\")\n",
    "plt.xlabel(\"Epochs\")\n",
    "plt.ylabel(\"Loss\")\n",
    "plt.legend()\n",
    "plt.grid('off')\n",
    "plt.show()\n",
    "\n",
    "# ==================================\n",
    "# Training and Validation Accuracy Plot\n",
    "# ==================================\n",
    "\n",
    "plt.subplot(212)\n",
    "plt.plot(\n",
    "    epochs,\n",
    "    train_accuracies,\n",
    "    'bo',\n",
    "    label='Training Accuracy'\n",
    ")\n",
    "plt.plot(\n",
    "    epochs,\n",
    "    val_accuracies,\n",
    "    'r',\n",
    "    label='Validation Accuracy'\n",
    ")\n",
    "plt.gca().xaxis.set_major_locator(mticker.MultipleLocator(1))\n",
    "plt.title(\"Training and Validation Accuracies when batch size is 32\")\n",
    "plt.xlabel(\"Epochs\")\n",
    "plt.ylabel(\"Accuracy\")\n",
    "plt.gca().set_yticklabels(['{:.0f}%'.format(x*100) for x in plt.gca().get_yticks()])\n",
    "plt.legend()\n",
    "plt.grid('off')\n",
    "plt.show()"
   ]
  },
  {
   "cell_type": "markdown",
   "metadata": {},
   "source": [
    "### Batch Size 10000"
   ]
  },
  {
   "cell_type": "code",
   "execution_count": 19,
   "metadata": {},
   "outputs": [],
   "source": [
    "# Get data\n",
    "\n",
    "def get_data(): \n",
    "    train = FMNISTDataset(tr_images, tr_targets) \n",
    "    trn_dl = DataLoader(train, batch_size=10000, shuffle=True)\n",
    "    val = FMNISTDataset(val_images, val_targets) \n",
    "    val_dl = DataLoader(val, batch_size=len(val_images), shuffle=False)\n",
    "    return trn_dl, val_dl"
   ]
  },
  {
   "cell_type": "code",
   "execution_count": 22,
   "metadata": {},
   "outputs": [
    {
     "name": "stdout",
     "output_type": "stream",
     "text": [
      "\n",
      "Epoch: 0\n",
      "Loss: 2.2943663597106934    Accuracy: 0.13896666666666666\n",
      "\n",
      "Epoch: 1\n",
      "Loss: 2.2427790562311807    Accuracy: 0.21548333333333333\n",
      "\n",
      "Epoch: 2\n",
      "Loss: 2.195915778477987    Accuracy: 0.3429833333333333\n",
      "\n",
      "Epoch: 3\n",
      "Loss: 2.1519943475723267    Accuracy: 0.42443333333333333\n",
      "\n",
      "Epoch: 4\n",
      "Loss: 2.1099480787913003    Accuracy: 0.4744\n"
     ]
    }
   ],
   "source": [
    "# Model Training\n",
    "\n",
    "train_dl, val_dl = get_data()\n",
    "model, loss_fn, optimizer = get_model()\n",
    "\n",
    "train_losses, train_accuracies = [], []\n",
    "val_losses, val_accuracies = [], []\n",
    "\n",
    "for epoch in range(5):\n",
    "    print(f\"\\nEpoch: {epoch}\")\n",
    "    train_epoch_losses, train_epoch_accuracies = [], []\n",
    "\n",
    "    for index, batch in enumerate(iter(train_dl)):\n",
    "        x, y = batch \n",
    "        batch_loss = train_batch(x, y, model, loss_fn, optimizer)\n",
    "        train_epoch_losses.append(batch_loss)\n",
    "\n",
    "    train_epoch_loss = np.array(train_epoch_losses).mean()\n",
    "\n",
    "    for index, batch in enumerate(iter(train_dl)):\n",
    "        x, y = batch \n",
    "        train_is_correct = accuracy(x, y, model)\n",
    "        train_epoch_accuracies.append(train_is_correct)\n",
    "\n",
    "    train_epoch_accuracy = np.mean(train_epoch_accuracies)\n",
    "\n",
    "    print(f\"Loss: {train_epoch_loss}    Accuracy: {train_epoch_accuracy}\")\n",
    "\n",
    "    for index, batch in enumerate(iter(val_dl)):\n",
    "        x, y = batch \n",
    "        val_is_correct = accuracy(x, y, model)\n",
    "        val_batch_loss = val_loss(x, y, model)\n",
    "\n",
    "    validation_epoch_accuracy = np.mean(val_is_correct)\n",
    "\n",
    "    train_losses.append(train_epoch_loss)\n",
    "    train_accuracies.append(train_epoch_accuracy)\n",
    "    val_losses.append(val_batch_loss)\n",
    "    val_accuracies.append(validation_epoch_accuracy)\n"
   ]
  },
  {
   "cell_type": "code",
   "execution_count": 23,
   "metadata": {},
   "outputs": [
    {
     "data": {
      "image/png": "[encoded data removed]",
      "text/plain": [
       "<Figure size 432x288 with 1 Axes>"
      ]
     },
     "metadata": {
      "needs_background": "light"
     },
     "output_type": "display_data"
    },
    {
     "name": "stderr",
     "output_type": "stream",
     "text": [
      "C:\\Users\\hp\\anaconda3\\envs\\myenv\\lib\\site-packages\\ipykernel_launcher.py:23: UserWarning: FixedFormatter should only be used together with FixedLocator\n"
     ]
    },
    {
     "data": {
      "image/png": "[encoded data removed]",
      "text/plain": [
       "<Figure size 432x288 with 1 Axes>"
      ]
     },
     "metadata": {
      "needs_background": "light"
     },
     "output_type": "display_data"
    }
   ],
   "source": [
    "# Plot\n",
    "\n",
    "epochs = np.arange(5)+1\n",
    "plt.subplot(211)\n",
    "\n",
    "plt.plot(epochs, train_losses, 'bo', label='Training loss')\n",
    "plt.plot(epochs, val_losses, 'r', label='Validation loss')\n",
    "plt.gca().xaxis.set_major_locator(mticker.MultipleLocator(1))\n",
    "plt.title('Training and validation loss when batch size is 10000')\n",
    "plt.xlabel('Epochs')\n",
    "plt.ylabel('Loss')\n",
    "plt.legend()\n",
    "plt.grid('off')\n",
    "plt.show()\n",
    "\n",
    "plt.subplot(212)\n",
    "plt.plot(epochs, train_accuracies, 'bo', label='Training accuracy')\n",
    "plt.plot(epochs, val_accuracies, 'r', label='Validation accuracy')\n",
    "plt.gca().xaxis.set_major_locator(mticker.MultipleLocator(1))\n",
    "plt.title('Training and validation accuracy when batch size is 10000')\n",
    "plt.xlabel('Epochs')\n",
    "plt.ylabel('Accuracy')\n",
    "plt.gca().set_yticklabels(['{:.0f}%'.format(x*100) for x in plt.gca().get_yticks()]) \n",
    "plt.legend()\n",
    "plt.grid('off')\n",
    "plt.show()"
   ]
  }
 ],
 "metadata": {
  "interpreter": {
   "hash": "323c9bce7ac1a9ea4994ab47268d44dc7215c46ff68d641ed6324f9037e8a8c4"
  },
  "kernelspec": {
   "display_name": "Python 3.7.10 64-bit ('myenv': conda)",
   "language": "python",
   "name": "python3"
  },
  "language_info": {
   "codemirror_mode": {
    "name": "ipython",
    "version": 3
   },
   "file_extension": ".py",
   "mimetype": "text/x-python",
   "name": "python",
   "nbconvert_exporter": "python",
   "pygments_lexer": "ipython3",
   "version": "3.7.10"
  },
  "orig_nbformat": 4
 },
 "nbformat": 4,
 "nbformat_minor": 2
}
