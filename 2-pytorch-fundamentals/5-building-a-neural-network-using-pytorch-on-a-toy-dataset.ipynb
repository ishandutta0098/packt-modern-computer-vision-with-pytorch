{
 "cells": [
  {
   "cell_type": "markdown",
   "metadata": {},
   "source": [
    "# Neural Network on Toy Data\n",
    "\n",
    "Output of data is simply sum of inputs"
   ]
  },
  {
   "cell_type": "code",
   "execution_count": 4,
   "metadata": {},
   "outputs": [],
   "source": [
    "import torch\n",
    "\n",
    "# Define inputs and outputs\n",
    "x = [\n",
    "    [1,2],\n",
    "    [3,4],\n",
    "    [5,6],\n",
    "    [7,8]\n",
    "]\n",
    "\n",
    "y = [\n",
    "    [3],\n",
    "    [7],\n",
    "    [11],\n",
    "    [15]\n",
    "]\n",
    "\n",
    "# Convert to tensor\n",
    "X = torch.tensor(x).float()     # When multiplied by decimals (weights) they become float\n",
    "Y = torch.tensor(y).float()\n",
    "\n",
    "# Device\n",
    "device = 'cuda' if torch.cuda.is_available() else 'cpu'\n",
    "X = X.to(device)\n",
    "Y = Y.to(device)\n"
   ]
  },
  {
   "cell_type": "code",
   "execution_count": 21,
   "metadata": {},
   "outputs": [],
   "source": [
    "# Model Architecture\n",
    "\n",
    "import torch.nn as nn \n",
    "\n",
    "class MyNeuralNet(nn.Module):   # nn.Module is base class for all neural network modules\n",
    "    def __init__(self):\n",
    "        super().__init__()      # Ensures that class inherits from nn.Module\n",
    "\n",
    "        self.input_to_hidden_layer = nn.Linear(2, 8)\n",
    "        self.hidden_layer_activation = nn.ReLU()\n",
    "        self.hidden_to_output_layer = nn.Linear(8, 1)\n",
    "\n",
    "    def forward(self, x):\n",
    "        x = self.input_to_hidden_layer(x)\n",
    "        x = self.hidden_layer_activation(x)\n",
    "        x = self.hidden_to_output_layer(x)\n",
    "        return x "
   ]
  },
  {
   "cell_type": "code",
   "execution_count": 23,
   "metadata": {},
   "outputs": [
    {
     "data": {
      "text/plain": [
       "Parameter containing:\n",
       "tensor([[-0.4445,  0.0060],\n",
       "        [ 0.3637, -0.2005],\n",
       "        [-0.6692, -0.1838],\n",
       "        [-0.0945, -0.3630],\n",
       "        [-0.3055,  0.2011],\n",
       "        [ 0.3776, -0.3497],\n",
       "        [ 0.2519, -0.2699],\n",
       "        [ 0.6976, -0.2471]], device='cuda:0', requires_grad=True)"
      ]
     },
     "execution_count": 23,
     "metadata": {},
     "output_type": "execute_result"
    }
   ],
   "source": [
    "# Checking parameters\n",
    "\n",
    "mynet = MyNeuralNet().to(device)\n",
    "mynet.input_to_hidden_layer.weight"
   ]
  },
  {
   "cell_type": "code",
   "execution_count": 19,
   "metadata": {},
   "outputs": [
    {
     "name": "stdout",
     "output_type": "stream",
     "text": [
      "Parameter containing:\n",
      "tensor([[ 0.6931,  0.4397],\n",
      "        [-0.2166, -0.2142],\n",
      "        [-0.5716,  0.0952],\n",
      "        [-0.2807,  0.4492],\n",
      "        [-0.3619, -0.5396],\n",
      "        [-0.4714,  0.0625],\n",
      "        [ 0.2184, -0.5905],\n",
      "        [-0.0908,  0.4519]], device='cuda:0', requires_grad=True)\n",
      "Parameter containing:\n",
      "tensor([-0.1415, -0.6377,  0.2288,  0.0052, -0.1790,  0.1364, -0.1241, -0.2136],\n",
      "       device='cuda:0', requires_grad=True)\n",
      "Parameter containing:\n",
      "tensor([[-0.1206,  0.0778, -0.2517,  0.1414,  0.0425, -0.1415,  0.3371, -0.3532]],\n",
      "       device='cuda:0', requires_grad=True)\n",
      "Parameter containing:\n",
      "tensor([0.3039], device='cuda:0', requires_grad=True)\n"
     ]
    }
   ],
   "source": [
    "for par in mynet.parameters():\n",
    "    print(par)"
   ]
  },
  {
   "cell_type": "code",
   "execution_count": 24,
   "metadata": {},
   "outputs": [
    {
     "name": "stdout",
     "output_type": "stream",
     "text": [
      "tensor(106.0428, device='cuda:0', grad_fn=<MseLossBackward>)\n"
     ]
    }
   ],
   "source": [
    "# Loss Function\n",
    "loss_fn = nn.MSELoss()\n",
    "\n",
    "# Loss value\n",
    "_Y = mynet(X)\n",
    "loss_value = loss_fn(_Y, Y)\n",
    "print(loss_value)"
   ]
  },
  {
   "cell_type": "code",
   "execution_count": 25,
   "metadata": {},
   "outputs": [],
   "source": [
    "# Optimizer\n",
    "\n",
    "from torch.optim import SGD \n",
    "optimizer = SGD(mynet.parameters(), lr = 0.001)"
   ]
  },
  {
   "cell_type": "code",
   "execution_count": 30,
   "metadata": {},
   "outputs": [],
   "source": [
    "# Training loop\n",
    "\n",
    "loss_history = []\n",
    "\n",
    "for _ in range(50):\n",
    "    optimizer.zero_grad()\n",
    "    loss_value = loss_fn(mynet(X), Y)\n",
    "    loss_value.backward()\n",
    "    optimizer.step()\n",
    "    loss_history.append(loss_value)"
   ]
  },
  {
   "cell_type": "code",
   "execution_count": 31,
   "metadata": {},
   "outputs": [
    {
     "data": {
      "text/plain": [
       "Text(0, 0.5, 'loss')"
      ]
     },
     "execution_count": 31,
     "metadata": {},
     "output_type": "execute_result"
    },
    {
     "data": {
      "image/png": "[encoded data removed]",
      "text/plain": [
       "<Figure size 432x288 with 1 Axes>"
      ]
     },
     "metadata": {
      "needs_background": "light"
     },
     "output_type": "display_data"
    }
   ],
   "source": [
    "# Loss Plot\n",
    "\n",
    "import matplotlib.pyplot as plt\n",
    "%matplotlib inline\n",
    "\n",
    "plt.plot(loss_history)\n",
    "plt.title(\"Loss vs Epochs\")\n",
    "plt.xlabel(\"epochs\")\n",
    "plt.ylabel(\"loss\")"
   ]
  }
 ],
 "metadata": {
  "interpreter": {
   "hash": "323c9bce7ac1a9ea4994ab47268d44dc7215c46ff68d641ed6324f9037e8a8c4"
  },
  "kernelspec": {
   "display_name": "Python 3.7.10 64-bit ('myenv': conda)",
   "language": "python",
   "name": "python3"
  },
  "language_info": {
   "codemirror_mode": {
    "name": "ipython",
    "version": 3
   },
   "file_extension": ".py",
   "mimetype": "text/x-python",
   "name": "python",
   "nbconvert_exporter": "python",
   "pygments_lexer": "ipython3",
   "version": "3.7.10"
  },
  "orig_nbformat": 4
 },
 "nbformat": 4,
 "nbformat_minor": 2
}
