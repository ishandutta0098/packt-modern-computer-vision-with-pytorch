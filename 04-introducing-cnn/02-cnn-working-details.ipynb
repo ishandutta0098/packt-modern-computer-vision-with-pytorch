{
 "cells": [
  {
   "cell_type": "markdown",
   "metadata": {},
   "source": [
    "# CNN Working Details"
   ]
  },
  {
   "cell_type": "code",
   "execution_count": 10,
   "metadata": {},
   "outputs": [],
   "source": [
    "# Imports\n",
    "\n",
    "import numpy as np\n",
    "\n",
    "import matplotlib.pyplot as plt\n",
    "%matplotlib inline\n",
    "\n",
    "import torch \n",
    "import torch.nn as nn \n",
    "from torch.utils.data import TensorDataset, DataLoader, Dataset\n",
    "from torch.optim import SGD, Adam \n",
    "from torchvision import datasets \n",
    "\n",
    "from torchsummary import summary\n",
    "\n",
    "# Device\n",
    "device = 'cuda' if torch.cuda.is_available() else 'cpu' "
   ]
  },
  {
   "cell_type": "code",
   "execution_count": 8,
   "metadata": {},
   "outputs": [
    {
     "name": "stdout",
     "output_type": "stream",
     "text": [
      "torch.Size([2, 1, 4, 4])\n"
     ]
    }
   ],
   "source": [
    "# Data\n",
    "\n",
    "# PyTorch Input Format: batch_size * no_of_channels * height * width\n",
    "X_train = torch.tensor(\n",
    "    [\n",
    "        [\n",
    "            [\n",
    "                [1,2,3,4],\n",
    "                [2,3,4,5],\n",
    "                [5,6,7,8],\n",
    "                [1,3,4,5]\n",
    "                ]\n",
    "            ],\n",
    "        [\n",
    "            [\n",
    "                [-1,2,3,-4],\n",
    "                [2,-3,4,5],\n",
    "                [-5,6,-7,8],\n",
    "                [-1,-3,-4,-5]\n",
    "                ]\n",
    "            ]\n",
    "        ]\n",
    "    ).to(device).float()\n",
    "\n",
    "X_train /= 8    # Scale the data\n",
    "y_train = torch.tensor([0,1]).to(device).float()\n",
    "\n",
    "print(X_train.shape)"
   ]
  },
  {
   "cell_type": "code",
   "execution_count": 31,
   "metadata": {},
   "outputs": [],
   "source": [
    "# Model\n",
    "\n",
    "def get_model():\n",
    "\n",
    "    model = nn.Sequential(\n",
    "        nn.Conv2d(\n",
    "            in_channels=1,\n",
    "            out_channels=1,\n",
    "            kernel_size=3\n",
    "        ),\n",
    "        nn.MaxPool2d(\n",
    "            kernel_size=2\n",
    "        ),\n",
    "        nn.ReLU(),\n",
    "        nn.Linear(1, 1),\n",
    "        nn.Sigmoid()\n",
    "    ).to(device)\n",
    "\n",
    "    loss_fn = nn.BCELoss()\n",
    "\n",
    "    optimizer = Adam(\n",
    "        model.parameters(),\n",
    "        lr=1e-3\n",
    "        )\n",
    "\n",
    "    return model, loss_fn, optimizer"
   ]
  },
  {
   "cell_type": "code",
   "execution_count": 32,
   "metadata": {},
   "outputs": [],
   "source": [
    "# Training Function\n",
    "\n",
    "def train_batch(x, y, model, loss_fn, optimizer):\n",
    "    model.train()\n",
    "    predictions = model(x)\n",
    "    batch_loss = loss_fn(predictions.squeeze(0), y)\n",
    "    batch_loss.backward()\n",
    "    optimizer.step()\n",
    "    optimizer.zero_grad()\n",
    "    return batch_loss.item()\n",
    "\n",
    "\n",
    "model, loss_fn, optimizer = get_model()\n",
    "\n",
    "# DataLoader\n",
    "\n",
    "train_dl = DataLoader(\n",
    "    TensorDataset(\n",
    "        X_train, \n",
    "        y_train \n",
    "    )\n",
    ")\n"
   ]
  },
  {
   "cell_type": "code",
   "execution_count": null,
   "metadata": {},
   "outputs": [],
   "source": [
    "# Train Model\n",
    "\n",
    "for epoch in range(2000):\n",
    "    for index, batch in enumerate(iter(train_dl)):\n",
    "        x, y = batch \n",
    "        batch_loss = train_batch(x, y, model, loss_fn, optimizer)"
   ]
  },
  {
   "cell_type": "markdown",
   "metadata": {},
   "source": [
    "## Forward Propagating output"
   ]
  },
  {
   "cell_type": "code",
   "execution_count": 36,
   "metadata": {},
   "outputs": [
    {
     "data": {
      "text/plain": [
       "[Conv2d(1, 1, kernel_size=(3, 3), stride=(1, 1)),\n",
       " MaxPool2d(kernel_size=2, stride=2, padding=0, dilation=1, ceil_mode=False),\n",
       " ReLU(),\n",
       " Linear(in_features=1, out_features=1, bias=True),\n",
       " Sigmoid()]"
      ]
     },
     "execution_count": 36,
     "metadata": {},
     "output_type": "execute_result"
    }
   ],
   "source": [
    "list(model.children())"
   ]
  },
  {
   "cell_type": "code",
   "execution_count": 39,
   "metadata": {},
   "outputs": [],
   "source": [
    "# Extract layers which have weight attribute\n",
    "\n",
    "(cnn_w, cnn_b), (lin_w, lin_b) = [\n",
    "    (\n",
    "        layer.weight.data, \n",
    "        layer.bias.data\n",
    "    ) \n",
    "    for layer in list(model.children()) if hasattr(layer, 'weight')\n",
    "]"
   ]
  },
  {
   "cell_type": "code",
   "execution_count": 41,
   "metadata": {},
   "outputs": [],
   "source": [
    "# Convolution\n",
    "\n",
    "h_im, w_im = X_train.shape[2:]\n",
    "h_conv, w_conv = cnn_w.shape[2:]\n",
    "sumprod = torch.zeros((h_im - h_conv + 1, w_im - w_conv + 1))\n",
    "\n",
    "for i in range(h_im - h_conv + 1):\n",
    "    for j in range(w_im - w_conv + 1):\n",
    "        img_subset = X_train[0, 0, i:(i+3), j:(j+3)]\n",
    "        model_filter = cnn_w.reshape(3,3)\n",
    "        val = torch.sum(img_subset*model_filter) + cnn_b\n",
    "        sumprod[i,j] = val"
   ]
  },
  {
   "cell_type": "code",
   "execution_count": 46,
   "metadata": {},
   "outputs": [
    {
     "name": "stdout",
     "output_type": "stream",
     "text": [
      "tensor([[0.4615]], device='cuda:0')\n"
     ]
    }
   ],
   "source": [
    "# ReLU\n",
    "sumprod.clamp_min_(0)\n",
    "\n",
    "# MaxPool\n",
    "pooling_layer_output = torch.max(sumprod)\n",
    "\n",
    "# Preceding Output\n",
    "intermediate_output_value = pooling_layer_output * lin_w + lin_b\n",
    "\n",
    "# Sigmoid\n",
    "print(torch.sigmoid(intermediate_output_value))"
   ]
  }
 ],
 "metadata": {
  "interpreter": {
   "hash": "323c9bce7ac1a9ea4994ab47268d44dc7215c46ff68d641ed6324f9037e8a8c4"
  },
  "kernelspec": {
   "display_name": "Python 3.7.10 64-bit ('myenv': conda)",
   "language": "python",
   "name": "python3"
  },
  "language_info": {
   "codemirror_mode": {
    "name": "ipython",
    "version": 3
   },
   "file_extension": ".py",
   "mimetype": "text/x-python",
   "name": "python",
   "nbconvert_exporter": "python",
   "pygments_lexer": "ipython3",
   "version": "3.7.10"
  },
  "orig_nbformat": 4
 },
 "nbformat": 4,
 "nbformat_minor": 2
}
